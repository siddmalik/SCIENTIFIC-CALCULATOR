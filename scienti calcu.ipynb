print("""                                    ______________________
                                    |  _________________  |
                                    | | JO           0. | |
                                    | |_________________| |
                                    |  ___ ___ ___   ___  |
                                    | | 7 | 8 | 9 | | + | |
                                    | |___|___|___| |___| |
                                    | | 4 | 5 | 6 | | - | |
                                    | |___|___|___| |___| |
                                    | | 1 | 2 | 3 | | x | |
                                    | |___|___|___| |___| |
                                    | | . | 0 | = | | / | |
                                    | |___|___|___| |___| |
                                    |_____________________|
""")
a=True
import math
def add(a,b):
    return  a+b 
def subtract(a,b):
    return a-b
def multiply(a,b):
    return  a*b
def divide(a,b):
    return a/b
def remainder(a,b):
    return  math.remainder(a,b)
def sqrt(a):
    return math.sqrt(a)
def exponentiate(a,b):
    return math.pow(a,b)
def sine(a):
    return math.sin(a)
def cosine(a):
    return math.cos(a)
def tangent(a):
    return math.tan(a)
def rad_to_deg(a):
    return math.degrees(a)
def deg_to_rad(a):
    return math.radians(a)
function_map={
    "1":add,
    "2":subtract,
    "3":multiply,
    "4":divide,
    "5":remainder,
    "6":sqrt,
    "7":exponentiate,
    "8":sine,
    "9":cosine,
    "10":tangent,
    "11":rad_to_deg,
    "12":deg_to_rad
}
while a:
    func=input("""Which operation would you like to do (Tell the number) ?
[1.Add,2.Subtract,3.Multiply,4.Divide,5.Remainder,6.Square root,7.Exponentiate,8.Sine,9.Cosine,10.tangent,11.Radians to degrees,12.Degrees to radians,13.Exit]
""")
    if func in ["6","8","9","10","11","12"]:
        typ=input("Number should be int or float (Please tell) :")
        if typ=="int":
            a=int(input("Enter the number: "))
            c=function_map[func](a)
            print("result=",c)
        else:
            a=float(input("Enter the number: "))
            c=function_map[func](a)
            print(c)
    elif func in ["1","2","3","4","5","7"]:
        typ=input("Number should be int or float (Please tell) :")
        if typ=="int":
            a = int(input("Enter the first number: "))
            b = int(input("Enter the second number: "))
            c = function_map[func](a, b)
            print("result=",c)
        else:
            a = float(input("Enter the first number: "))
            b = float(input("Enter the second number: "))
            c = function_map[func](a, b)
            print(c)
    elif func=="13":
        a=False
    else:
        print("Invalid operation")
            
